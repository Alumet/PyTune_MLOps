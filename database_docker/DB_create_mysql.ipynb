{
 "cells": [
  {
   "cell_type": "code",
   "execution_count": 1,
   "id": "b7cf6f8d",
   "metadata": {},
   "outputs": [],
   "source": [
    "import pandas as pd\n",
    "import os\n",
    "\n",
    "from passlib.context import CryptContext\n",
    "\n",
    "import sqlite3, sqlalchemy\n",
    "from sqlalchemy import Table, Column, Integer, String, ForeignKey, MetaData, create_engine, text, inspect, Boolean, DateTime, Float\n",
    "from IPython.display import Markdown, display"
   ]
  },
  {
   "cell_type": "code",
   "execution_count": 2,
   "id": "920962c2",
   "metadata": {},
   "outputs": [],
   "source": [
    "df = pd.read_csv('../data/dataset.csv', index_col=0)"
   ]
  },
  {
   "cell_type": "code",
   "execution_count": 4,
   "id": "a5df7ba8",
   "metadata": {},
   "outputs": [
    {
     "data": {
      "text/html": [
       "<div>\n",
       "<style scoped>\n",
       "    .dataframe tbody tr th:only-of-type {\n",
       "        vertical-align: middle;\n",
       "    }\n",
       "\n",
       "    .dataframe tbody tr th {\n",
       "        vertical-align: top;\n",
       "    }\n",
       "\n",
       "    .dataframe thead th {\n",
       "        text-align: right;\n",
       "    }\n",
       "</style>\n",
       "<table border=\"1\" class=\"dataframe\">\n",
       "  <thead>\n",
       "    <tr style=\"text-align: right;\">\n",
       "      <th></th>\n",
       "      <th>user_id</th>\n",
       "      <th>time_stamp</th>\n",
       "      <th>artist_id</th>\n",
       "      <th>artist_name</th>\n",
       "      <th>track_id</th>\n",
       "      <th>track_name</th>\n",
       "    </tr>\n",
       "  </thead>\n",
       "  <tbody>\n",
       "    <tr>\n",
       "      <th>53</th>\n",
       "      <td>1005</td>\n",
       "      <td>2022-01-27 21:43:14</td>\n",
       "      <td>1902</td>\n",
       "      <td>Jay-Z</td>\n",
       "      <td>12269</td>\n",
       "      <td>Show Me What You Got</td>\n",
       "    </tr>\n",
       "    <tr>\n",
       "      <th>54</th>\n",
       "      <td>1005</td>\n",
       "      <td>2022-01-27 21:43:14</td>\n",
       "      <td>1902</td>\n",
       "      <td>Jay-Z</td>\n",
       "      <td>38806</td>\n",
       "      <td>Politics As Usual</td>\n",
       "    </tr>\n",
       "    <tr>\n",
       "      <th>55</th>\n",
       "      <td>1005</td>\n",
       "      <td>2022-01-27 21:43:14</td>\n",
       "      <td>1902</td>\n",
       "      <td>Jay-Z</td>\n",
       "      <td>38994</td>\n",
       "      <td>Girls, Girls, Girls</td>\n",
       "    </tr>\n",
       "    <tr>\n",
       "      <th>56</th>\n",
       "      <td>1005</td>\n",
       "      <td>2022-01-27 21:43:14</td>\n",
       "      <td>1902</td>\n",
       "      <td>Jay-Z</td>\n",
       "      <td>39526</td>\n",
       "      <td>Justify My Thug</td>\n",
       "    </tr>\n",
       "    <tr>\n",
       "      <th>57</th>\n",
       "      <td>1005</td>\n",
       "      <td>2022-01-27 21:43:14</td>\n",
       "      <td>1902</td>\n",
       "      <td>Jay-Z</td>\n",
       "      <td>39550</td>\n",
       "      <td>Hard Knock Life</td>\n",
       "    </tr>\n",
       "  </tbody>\n",
       "</table>\n",
       "</div>"
      ],
      "text/plain": [
       "    user_id           time_stamp  artist_id artist_name  track_id  \\\n",
       "53     1005  2022-01-27 21:43:14       1902       Jay-Z     12269   \n",
       "54     1005  2022-01-27 21:43:14       1902       Jay-Z     38806   \n",
       "55     1005  2022-01-27 21:43:14       1902       Jay-Z     38994   \n",
       "56     1005  2022-01-27 21:43:14       1902       Jay-Z     39526   \n",
       "57     1005  2022-01-27 21:43:14       1902       Jay-Z     39550   \n",
       "\n",
       "              track_name  \n",
       "53  Show Me What You Got  \n",
       "54     Politics As Usual  \n",
       "55   Girls, Girls, Girls  \n",
       "56       Justify My Thug  \n",
       "57       Hard Knock Life  "
      ]
     },
     "execution_count": 4,
     "metadata": {},
     "output_type": "execute_result"
    }
   ],
   "source": [
    "df.tail()"
   ]
  },
  {
   "cell_type": "markdown",
   "id": "df01186e",
   "metadata": {},
   "source": [
    "## Create Database"
   ]
  },
  {
   "cell_type": "code",
   "execution_count": 36,
   "id": "a2065c2a",
   "metadata": {},
   "outputs": [],
   "source": [
    "mysql_url = 'localhost'  # to complete\n",
    "mysql_user = 'root'\n",
    "mysql_password = 'pytune'  # to complete\n",
    "database_name = 'main'\n",
    "\n",
    "# recreating the URL connection\n",
    "connection_url = 'mysql://{user}:{password}@{url}/{database}'.format(\n",
    "    user=mysql_user,\n",
    "    password=mysql_password,\n",
    "    url=mysql_url,\n",
    "    database=database_name\n",
    ")"
   ]
  },
  {
   "cell_type": "code",
   "execution_count": 37,
   "id": "effad795",
   "metadata": {},
   "outputs": [],
   "source": [
    "engine = create_engine(connection_url)"
   ]
  },
  {
   "cell_type": "code",
   "execution_count": 9,
   "id": "861f815c",
   "metadata": {},
   "outputs": [],
   "source": [
    "meta = MetaData()"
   ]
  },
  {
   "cell_type": "markdown",
   "id": "f536ef53",
   "metadata": {},
   "source": [
    "## users"
   ]
  },
  {
   "cell_type": "code",
   "execution_count": 11,
   "id": "f848954c",
   "metadata": {},
   "outputs": [],
   "source": [
    "user = Table(\n",
    "    'user', meta, \n",
    "    Column('id', Integer, primary_key = True, autoincrement=False),\n",
    "    Column('name', String(32), unique=True),\n",
    "    Column('admin', Boolean),\n",
    "    Column('hashed_password', String(128)),\n",
    "    extend_existing=True,\n",
    ")\n",
    "meta.create_all(engine)"
   ]
  },
  {
   "cell_type": "code",
   "execution_count": 12,
   "id": "707882d5",
   "metadata": {},
   "outputs": [],
   "source": [
    "\n",
    "pwd_context = CryptContext(schemes=[\"bcrypt\"], deprecated=\"auto\")"
   ]
  },
  {
   "cell_type": "code",
   "execution_count": 13,
   "id": "2f43583d",
   "metadata": {},
   "outputs": [],
   "source": [
    "values = [(0,'admin',True, pwd_context.hash('admin')),\n",
    "          (960, 'user_jazz', False, pwd_context.hash('jazz')),\n",
    "          (961, 'user_classic', False, pwd_context.hash('classic')),\n",
    "          (962, 'user_pop', False, pwd_context.hash('pop')),\n",
    "          (963, 'user_rock', False, pwd_context.hash('rock')),\n",
    "          (964, 'user_rap', False, pwd_context.hash('rap'))]\n",
    "\n",
    "pw = pwd_context.hash(f'user')\n",
    "\n",
    "for i in range(959):\n",
    "    values.append((i+1, f'user_{i+1}', False, pw))\n"
   ]
  },
  {
   "cell_type": "code",
   "execution_count": 14,
   "id": "69d73004",
   "metadata": {},
   "outputs": [],
   "source": [
    "with engine.connect() as connection:\n",
    "    with connection.begin() as transaction:\n",
    "        try:\n",
    "            ins = f\"INSERT INTO user VALUES (%s,%s,%s,%s)\"\n",
    "            connection.execute(ins, values)\n",
    "        except Exception as e:\n",
    "            print(e)\n",
    "            transaction.rollback()\n",
    "        else:\n",
    "            transaction.commit()"
   ]
  },
  {
   "cell_type": "code",
   "execution_count": 15,
   "id": "884e12cd",
   "metadata": {},
   "outputs": [
    {
     "name": "stdout",
     "output_type": "stream",
     "text": [
      "[(0, 'admin', 1, '$2b$12$W2MxOJK98GhLuaTkLG6FBurMF.4/QpPUNFm8RFEpbImf5eYG9LQMq'), (1, 'user_1', 0, '$2b$12$RU6i5525yAfXEg8asXPJxuBuitHprNP3i6OLdMpq6oJxcFDYgG5re'), (2, 'user_2', 0, '$2b$12$RU6i5525yAfXEg8asXPJxuBuitHprNP3i6OLdMpq6oJxcFDYgG5re'), (3, 'user_3', 0, '$2b$12$RU6i5525yAfXEg8asXPJxuBuitHprNP3i6OLdMpq6oJxcFDYgG5re'), (4, 'user_4', 0, '$2b$12$RU6i5525yAfXEg8asXPJxuBuitHprNP3i6OLdMpq6oJxcFDYgG5re'), (5, 'user_5', 0, '$2b$12$RU6i5525yAfXEg8asXPJxuBuitHprNP3i6OLdMpq6oJxcFDYgG5re'), (6, 'user_6', 0, '$2b$12$RU6i5525yAfXEg8asXPJxuBuitHprNP3i6OLdMpq6oJxcFDYgG5re'), (7, 'user_7', 0, '$2b$12$RU6i5525yAfXEg8asXPJxuBuitHprNP3i6OLdMpq6oJxcFDYgG5re'), (8, 'user_8', 0, '$2b$12$RU6i5525yAfXEg8asXPJxuBuitHprNP3i6OLdMpq6oJxcFDYgG5re'), (9, 'user_9', 0, '$2b$12$RU6i5525yAfXEg8asXPJxuBuitHprNP3i6OLdMpq6oJxcFDYgG5re')]\n"
     ]
    }
   ],
   "source": [
    "with engine.connect() as connection:\n",
    "    result = connection.execute(\"Select * from user limit 10;\")\n",
    "    print(result.fetchall())"
   ]
  },
  {
   "cell_type": "markdown",
   "id": "498b1d95",
   "metadata": {},
   "source": [
    "### artist"
   ]
  },
  {
   "cell_type": "code",
   "execution_count": 16,
   "id": "d422927b",
   "metadata": {},
   "outputs": [],
   "source": [
    "artist = Table(\n",
    "    'artist', meta, \n",
    "    Column('id', Integer, primary_key = True, autoincrement=False),\n",
    "    Column('name', String(128)),\n",
    "    extend_existing=True,\n",
    ")\n",
    "meta.create_all(engine)"
   ]
  },
  {
   "cell_type": "code",
   "execution_count": 17,
   "id": "ff8d5f27",
   "metadata": {},
   "outputs": [],
   "source": [
    "df_artist = df.groupby(['artist_id']).first().reset_index()[['artist_id','artist_name']]"
   ]
  },
  {
   "cell_type": "code",
   "execution_count": 18,
   "id": "00c4581f",
   "metadata": {},
   "outputs": [],
   "source": [
    "values = [tuple(el) for el in df_artist.values]"
   ]
  },
  {
   "cell_type": "code",
   "execution_count": 19,
   "id": "2a138a39",
   "metadata": {},
   "outputs": [],
   "source": [
    "with engine.connect() as connection:\n",
    "    with connection.begin() as transaction:\n",
    "        try:\n",
    "            ins = f\"INSERT INTO artist VALUES (%s,%s)\"\n",
    "            connection.execute(ins, values)\n",
    "        except Exception as e:\n",
    "            print(e)\n",
    "            transaction.rollback()\n",
    "        else:\n",
    "            transaction.commit()"
   ]
  },
  {
   "cell_type": "code",
   "execution_count": 20,
   "id": "1619ebbc",
   "metadata": {},
   "outputs": [
    {
     "name": "stdout",
     "output_type": "stream",
     "text": [
      "[(0, 'Deep Dish'), (1, '坂本龍一'), (2, 'Underworld'), (3, 'Ennio Morricone'), (4, 'Minus 8'), (5, 'Beanfield'), (7, 'Alif Tree'), (14, '4Hero'), (17, 'Lisa Shaw'), (18, 'Portishead & Moloko')]\n"
     ]
    }
   ],
   "source": [
    "with engine.connect() as connection:\n",
    "    result = connection.execute(\"Select * from artist limit 10;\")\n",
    "    print(result.fetchall())"
   ]
  },
  {
   "cell_type": "markdown",
   "id": "285436d1",
   "metadata": {},
   "source": [
    "### Tracks"
   ]
  },
  {
   "cell_type": "code",
   "execution_count": 21,
   "id": "86892a2f",
   "metadata": {},
   "outputs": [],
   "source": [
    "track = Table(\n",
    "    'track', meta, \n",
    "    Column('id', Integer, primary_key = True , autoincrement=False),\n",
    "    Column('title', String(246)),\n",
    "    Column('artist_id', Integer, ForeignKey('artist.id')),\n",
    "    Column('artist_name', String(128)),\n",
    "    extend_existing=True,\n",
    ")\n",
    "meta.create_all(engine)"
   ]
  },
  {
   "cell_type": "code",
   "execution_count": 22,
   "id": "0ce9c256",
   "metadata": {},
   "outputs": [],
   "source": [
    "df_track = df.groupby(['track_id']).first().reset_index()[['track_id','track_name','artist_id','artist_name']]"
   ]
  },
  {
   "cell_type": "code",
   "execution_count": 23,
   "id": "e8b86385",
   "metadata": {},
   "outputs": [
    {
     "data": {
      "text/html": [
       "<div>\n",
       "<style scoped>\n",
       "    .dataframe tbody tr th:only-of-type {\n",
       "        vertical-align: middle;\n",
       "    }\n",
       "\n",
       "    .dataframe tbody tr th {\n",
       "        vertical-align: top;\n",
       "    }\n",
       "\n",
       "    .dataframe thead th {\n",
       "        text-align: right;\n",
       "    }\n",
       "</style>\n",
       "<table border=\"1\" class=\"dataframe\">\n",
       "  <thead>\n",
       "    <tr style=\"text-align: right;\">\n",
       "      <th></th>\n",
       "      <th>track_id</th>\n",
       "      <th>track_name</th>\n",
       "      <th>artist_id</th>\n",
       "      <th>artist_name</th>\n",
       "    </tr>\n",
       "  </thead>\n",
       "  <tbody>\n",
       "    <tr>\n",
       "      <th>0</th>\n",
       "      <td>0</td>\n",
       "      <td>Elysian Fields</td>\n",
       "      <td>4</td>\n",
       "      <td>Minus 8</td>\n",
       "    </tr>\n",
       "    <tr>\n",
       "      <th>1</th>\n",
       "      <td>1</td>\n",
       "      <td>Planetary Deadlock</td>\n",
       "      <td>5</td>\n",
       "      <td>Beanfield</td>\n",
       "    </tr>\n",
       "    <tr>\n",
       "      <th>2</th>\n",
       "      <td>2</td>\n",
       "      <td>Deadly Species</td>\n",
       "      <td>7</td>\n",
       "      <td>Alif Tree</td>\n",
       "    </tr>\n",
       "    <tr>\n",
       "      <th>3</th>\n",
       "      <td>3</td>\n",
       "      <td>Cold Fusion</td>\n",
       "      <td>4</td>\n",
       "      <td>Minus 8</td>\n",
       "    </tr>\n",
       "    <tr>\n",
       "      <th>4</th>\n",
       "      <td>4</td>\n",
       "      <td>Look Inside</td>\n",
       "      <td>14</td>\n",
       "      <td>4Hero</td>\n",
       "    </tr>\n",
       "  </tbody>\n",
       "</table>\n",
       "</div>"
      ],
      "text/plain": [
       "   track_id          track_name  artist_id artist_name\n",
       "0         0      Elysian Fields          4     Minus 8\n",
       "1         1  Planetary Deadlock          5   Beanfield\n",
       "2         2      Deadly Species          7   Alif Tree\n",
       "3         3         Cold Fusion          4     Minus 8\n",
       "4         4         Look Inside         14       4Hero"
      ]
     },
     "execution_count": 23,
     "metadata": {},
     "output_type": "execute_result"
    }
   ],
   "source": [
    "df_track.head()"
   ]
  },
  {
   "cell_type": "code",
   "execution_count": 24,
   "id": "a493391b",
   "metadata": {},
   "outputs": [],
   "source": [
    "values = [tuple(el) for el in df_track.values]"
   ]
  },
  {
   "cell_type": "code",
   "execution_count": 25,
   "id": "771cdd54",
   "metadata": {},
   "outputs": [],
   "source": [
    "with engine.connect() as connection:\n",
    "    with connection.begin() as transaction:\n",
    "        try:\n",
    "            ins = f\"INSERT INTO track VALUES (%s,%s,%s,%s)\"\n",
    "            connection.execute(ins, values)\n",
    "        except Exception as e:\n",
    "            print(e)\n",
    "            transaction.rollback()\n",
    "        else:\n",
    "            transaction.commit()"
   ]
  },
  {
   "cell_type": "code",
   "execution_count": 26,
   "id": "e4fda847",
   "metadata": {},
   "outputs": [
    {
     "name": "stdout",
     "output_type": "stream",
     "text": [
      "[(0, 'Elysian Fields', 4, 'Minus 8'), (1, 'Planetary Deadlock', 5, 'Beanfield'), (2, 'Deadly Species', 7, 'Alif Tree'), (3, 'Cold Fusion', 4, 'Minus 8'), (4, 'Look Inside', 14, '4Hero'), (5, 'Morning Child', 14, '4Hero'), (6, 'Dedication To The Horse', 14, '4Hero'), (7, \"Why Don'T You Talk?\", 14, '4Hero'), (8, 'Sophia', 14, '4Hero'), (9, 'I Feel Blue', 7, 'Alif Tree')]\n"
     ]
    }
   ],
   "source": [
    "with engine.connect() as connection:\n",
    "    result = connection.execute(\"Select * from track limit 10;\")\n",
    "    print(result.fetchall())"
   ]
  },
  {
   "cell_type": "markdown",
   "id": "40621ad8",
   "metadata": {},
   "source": [
    "### User Items"
   ]
  },
  {
   "cell_type": "code",
   "execution_count": 27,
   "id": "065bdf50",
   "metadata": {},
   "outputs": [],
   "source": [
    "user_item = Table(\n",
    "    'user_item', meta, \n",
    "    Column('user_id', Integer, ForeignKey('user.id')),\n",
    "    Column('track_id', Integer, ForeignKey('track.id')),\n",
    "    Column('time_stamp', DateTime),\n",
    "    extend_existing=True,\n",
    ")\n",
    "meta.create_all(engine)"
   ]
  },
  {
   "cell_type": "code",
   "execution_count": 28,
   "id": "339b2bef",
   "metadata": {},
   "outputs": [],
   "source": [
    "df_user_item = df[['user_id','track_id','time_stamp']]"
   ]
  },
  {
   "cell_type": "code",
   "execution_count": 29,
   "id": "6daf478b",
   "metadata": {},
   "outputs": [],
   "source": [
    "values = [tuple(el) for el in df_user_item.values][::-1]"
   ]
  },
  {
   "cell_type": "code",
   "execution_count": 30,
   "id": "b19523b2",
   "metadata": {},
   "outputs": [],
   "source": [
    "with engine.connect() as connection:\n",
    "    with connection.begin() as transaction:\n",
    "        try:\n",
    "            ins = f\"INSERT INTO user_item VALUES (%s,%s,%s)\"\n",
    "            connection.execute(ins, values)\n",
    "        except Exception as e:\n",
    "            print(e)\n",
    "            transaction.rollback()\n",
    "        else:\n",
    "            transaction.commit()"
   ]
  },
  {
   "cell_type": "code",
   "execution_count": 31,
   "id": "98667eeb",
   "metadata": {},
   "outputs": [
    {
     "name": "stdout",
     "output_type": "stream",
     "text": [
      "[(964, 39550, datetime.date(2022, 1, 27)), (964, 39526, datetime.date(2022, 1, 27)), (964, 38994, datetime.date(2022, 1, 27)), (964, 38806, datetime.date(2022, 1, 27)), (964, 12269, datetime.date(2022, 1, 27)), (964, 77528, datetime.date(2022, 1, 27)), (964, 74054, datetime.date(2022, 1, 27)), (964, 77508, datetime.date(2022, 1, 27)), (964, 72134, datetime.date(2022, 1, 27)), (964, 6283, datetime.date(2022, 1, 27))]\n"
     ]
    }
   ],
   "source": [
    "with engine.connect() as connection:\n",
    "    result = connection.execute(\"Select * from user_item limit 10;\")\n",
    "    print(result.fetchall())"
   ]
  },
  {
   "cell_type": "markdown",
   "id": "8c395209",
   "metadata": {},
   "source": [
    "### Predictions"
   ]
  },
  {
   "cell_type": "code",
   "execution_count": 32,
   "id": "79e758e1",
   "metadata": {},
   "outputs": [],
   "source": [
    "prediction = Table(\n",
    "    'prediction', meta, \n",
    "    Column('user_id', Integer, ForeignKey('user.id')),\n",
    "    Column('track_ids', String(1024)),\n",
    "    Column('time_stamp', Date),\n",
    "    extend_existing=True,\n",
    ")\n",
    "meta.create_all(engine)"
   ]
  },
  {
   "cell_type": "markdown",
   "id": "f22e5ff6",
   "metadata": {},
   "source": [
    "### Training result"
   ]
  },
  {
   "cell_type": "code",
   "execution_count": 33,
   "id": "16dd9db6",
   "metadata": {},
   "outputs": [],
   "source": [
    "training = Table(\n",
    "    'training', meta,\n",
    "    Column('time_stamp', Date),\n",
    "    Column('sample', Integer),\n",
    "    Column('precision', Float),\n",
    "    Column('map', Float),\n",
    "    Column('ndcg', Float),\n",
    "    Column('auc', Float),\n",
    "    extend_existing=True,\n",
    ")\n",
    "meta.create_all(engine)"
   ]
  }
 ],
 "metadata": {
  "kernelspec": {
   "display_name": "Python 3 (ipykernel)",
   "language": "python",
   "name": "python3"
  },
  "language_info": {
   "codemirror_mode": {
    "name": "ipython",
    "version": 3
   },
   "file_extension": ".py",
   "mimetype": "text/x-python",
   "name": "python",
   "nbconvert_exporter": "python",
   "pygments_lexer": "ipython3",
   "version": "3.9.13"
  }
 },
 "nbformat": 4,
 "nbformat_minor": 5
}
